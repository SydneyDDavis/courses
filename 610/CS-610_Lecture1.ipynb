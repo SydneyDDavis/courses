{
 "cells": [
  {
   "cell_type": "markdown",
   "metadata": {
    "papermill": {
     "duration": 0.030089,
     "end_time": "2020-12-27T15:32:31.006204",
     "exception": false,
     "start_time": "2020-12-27T15:32:30.976115",
     "status": "completed"
    },
    "tags": []
   },
   "source": [
    "# Logistic Regression\n",
    "\n",
    "### Titanic dataset\n",
    "### Predicting whether survived or not\n"
   ]
  },
  {
   "cell_type": "code",
   "execution_count": 19,
   "metadata": {
    "execution": {
     "iopub.execute_input": "2020-12-27T15:32:31.065151Z",
     "iopub.status.busy": "2020-12-27T15:32:31.064508Z",
     "iopub.status.idle": "2020-12-27T15:32:32.065534Z",
     "shell.execute_reply": "2020-12-27T15:32:32.066071Z"
    },
    "papermill": {
     "duration": 1.031955,
     "end_time": "2020-12-27T15:32:32.066263",
     "exception": false,
     "start_time": "2020-12-27T15:32:31.034308",
     "status": "completed"
    },
    "tags": []
   },
   "outputs": [],
   "source": [
    "# importing libraries  \n",
    "import sklearn\n",
    "import pandas as pd\n",
    "import matplotlib as plt\n",
    "import seaborn as sns \n",
    "import numpy as np\n",
    "\n",
    "sns.set()"
   ]
  },
  {
   "cell_type": "code",
   "execution_count": 21,
   "metadata": {
    "execution": {
     "iopub.execute_input": "2020-12-27T15:32:32.126092Z",
     "iopub.status.busy": "2020-12-27T15:32:32.125433Z",
     "iopub.status.idle": "2020-12-27T15:32:32.175906Z",
     "shell.execute_reply": "2020-12-27T15:32:32.176368Z"
    },
    "papermill": {
     "duration": 0.081328,
     "end_time": "2020-12-27T15:32:32.176536",
     "exception": false,
     "start_time": "2020-12-27T15:32:32.095208",
     "status": "completed"
    },
    "tags": []
   },
   "outputs": [],
   "source": [
    "# reading CSV w/ pd.read_csv\n",
    "path = r'C:\\Users\\Sydney\\Downloads\\titanic_train.csv'\n",
    "df = pd.read_csv(path)"
   ]
  },
  {
   "cell_type": "code",
   "execution_count": 22,
   "metadata": {
    "execution": {
     "iopub.execute_input": "2020-12-27T15:32:32.237895Z",
     "iopub.status.busy": "2020-12-27T15:32:32.237261Z",
     "iopub.status.idle": "2020-12-27T15:32:32.252176Z",
     "shell.execute_reply": "2020-12-27T15:32:32.252798Z"
    },
    "papermill": {
     "duration": 0.047193,
     "end_time": "2020-12-27T15:32:32.252958",
     "exception": false,
     "start_time": "2020-12-27T15:32:32.205765",
     "status": "completed"
    },
    "tags": []
   },
   "outputs": [
    {
     "name": "stdout",
     "output_type": "stream",
     "text": [
      "<class 'pandas.core.frame.DataFrame'>\n",
      "RangeIndex: 891 entries, 0 to 890\n",
      "Data columns (total 12 columns):\n",
      " #   Column       Non-Null Count  Dtype  \n",
      "---  ------       --------------  -----  \n",
      " 0   PassengerId  891 non-null    int64  \n",
      " 1   Survived     891 non-null    int64  \n",
      " 2   Pclass       891 non-null    int64  \n",
      " 3   Name         891 non-null    object \n",
      " 4   Sex          891 non-null    object \n",
      " 5   Age          714 non-null    float64\n",
      " 6   SibSp        891 non-null    int64  \n",
      " 7   Parch        891 non-null    int64  \n",
      " 8   Ticket       891 non-null    object \n",
      " 9   Fare         891 non-null    float64\n",
      " 10  Cabin        204 non-null    object \n",
      " 11  Embarked     889 non-null    object \n",
      "dtypes: float64(2), int64(5), object(5)\n",
      "memory usage: 83.7+ KB\n"
     ]
    }
   ],
   "source": [
    "df.info()"
   ]
  },
  {
   "cell_type": "code",
   "execution_count": 23,
   "metadata": {
    "execution": {
     "iopub.execute_input": "2020-12-27T15:32:32.318927Z",
     "iopub.status.busy": "2020-12-27T15:32:32.318230Z",
     "iopub.status.idle": "2020-12-27T15:32:32.354716Z",
     "shell.execute_reply": "2020-12-27T15:32:32.355294Z"
    },
    "papermill": {
     "duration": 0.069956,
     "end_time": "2020-12-27T15:32:32.355455",
     "exception": false,
     "start_time": "2020-12-27T15:32:32.285499",
     "status": "completed"
    },
    "scrolled": true,
    "tags": []
   },
   "outputs": [
    {
     "data": {
      "text/html": [
       "<div>\n",
       "<style scoped>\n",
       "    .dataframe tbody tr th:only-of-type {\n",
       "        vertical-align: middle;\n",
       "    }\n",
       "\n",
       "    .dataframe tbody tr th {\n",
       "        vertical-align: top;\n",
       "    }\n",
       "\n",
       "    .dataframe thead th {\n",
       "        text-align: right;\n",
       "    }\n",
       "</style>\n",
       "<table border=\"1\" class=\"dataframe\">\n",
       "  <thead>\n",
       "    <tr style=\"text-align: right;\">\n",
       "      <th></th>\n",
       "      <th>count</th>\n",
       "      <th>mean</th>\n",
       "      <th>std</th>\n",
       "      <th>min</th>\n",
       "      <th>25%</th>\n",
       "      <th>50%</th>\n",
       "      <th>75%</th>\n",
       "      <th>max</th>\n",
       "    </tr>\n",
       "  </thead>\n",
       "  <tbody>\n",
       "    <tr>\n",
       "      <th>PassengerId</th>\n",
       "      <td>891.0</td>\n",
       "      <td>446.000000</td>\n",
       "      <td>257.353842</td>\n",
       "      <td>1.00</td>\n",
       "      <td>223.5000</td>\n",
       "      <td>446.0000</td>\n",
       "      <td>668.5</td>\n",
       "      <td>891.0000</td>\n",
       "    </tr>\n",
       "    <tr>\n",
       "      <th>Survived</th>\n",
       "      <td>891.0</td>\n",
       "      <td>0.383838</td>\n",
       "      <td>0.486592</td>\n",
       "      <td>0.00</td>\n",
       "      <td>0.0000</td>\n",
       "      <td>0.0000</td>\n",
       "      <td>1.0</td>\n",
       "      <td>1.0000</td>\n",
       "    </tr>\n",
       "    <tr>\n",
       "      <th>Pclass</th>\n",
       "      <td>891.0</td>\n",
       "      <td>2.308642</td>\n",
       "      <td>0.836071</td>\n",
       "      <td>1.00</td>\n",
       "      <td>2.0000</td>\n",
       "      <td>3.0000</td>\n",
       "      <td>3.0</td>\n",
       "      <td>3.0000</td>\n",
       "    </tr>\n",
       "    <tr>\n",
       "      <th>Age</th>\n",
       "      <td>714.0</td>\n",
       "      <td>29.699118</td>\n",
       "      <td>14.526497</td>\n",
       "      <td>0.42</td>\n",
       "      <td>20.1250</td>\n",
       "      <td>28.0000</td>\n",
       "      <td>38.0</td>\n",
       "      <td>80.0000</td>\n",
       "    </tr>\n",
       "    <tr>\n",
       "      <th>SibSp</th>\n",
       "      <td>891.0</td>\n",
       "      <td>0.523008</td>\n",
       "      <td>1.102743</td>\n",
       "      <td>0.00</td>\n",
       "      <td>0.0000</td>\n",
       "      <td>0.0000</td>\n",
       "      <td>1.0</td>\n",
       "      <td>8.0000</td>\n",
       "    </tr>\n",
       "    <tr>\n",
       "      <th>Parch</th>\n",
       "      <td>891.0</td>\n",
       "      <td>0.381594</td>\n",
       "      <td>0.806057</td>\n",
       "      <td>0.00</td>\n",
       "      <td>0.0000</td>\n",
       "      <td>0.0000</td>\n",
       "      <td>0.0</td>\n",
       "      <td>6.0000</td>\n",
       "    </tr>\n",
       "    <tr>\n",
       "      <th>Fare</th>\n",
       "      <td>891.0</td>\n",
       "      <td>32.204208</td>\n",
       "      <td>49.693429</td>\n",
       "      <td>0.00</td>\n",
       "      <td>7.9104</td>\n",
       "      <td>14.4542</td>\n",
       "      <td>31.0</td>\n",
       "      <td>512.3292</td>\n",
       "    </tr>\n",
       "  </tbody>\n",
       "</table>\n",
       "</div>"
      ],
      "text/plain": [
       "             count        mean         std   min       25%       50%    75%  \\\n",
       "PassengerId  891.0  446.000000  257.353842  1.00  223.5000  446.0000  668.5   \n",
       "Survived     891.0    0.383838    0.486592  0.00    0.0000    0.0000    1.0   \n",
       "Pclass       891.0    2.308642    0.836071  1.00    2.0000    3.0000    3.0   \n",
       "Age          714.0   29.699118   14.526497  0.42   20.1250   28.0000   38.0   \n",
       "SibSp        891.0    0.523008    1.102743  0.00    0.0000    0.0000    1.0   \n",
       "Parch        891.0    0.381594    0.806057  0.00    0.0000    0.0000    0.0   \n",
       "Fare         891.0   32.204208   49.693429  0.00    7.9104   14.4542   31.0   \n",
       "\n",
       "                  max  \n",
       "PassengerId  891.0000  \n",
       "Survived       1.0000  \n",
       "Pclass         3.0000  \n",
       "Age           80.0000  \n",
       "SibSp          8.0000  \n",
       "Parch          6.0000  \n",
       "Fare         512.3292  "
      ]
     },
     "execution_count": 23,
     "metadata": {},
     "output_type": "execute_result"
    }
   ],
   "source": [
    "df.describe().T"
   ]
  },
  {
   "cell_type": "code",
   "execution_count": 24,
   "metadata": {
    "execution": {
     "iopub.execute_input": "2020-12-27T15:32:32.418777Z",
     "iopub.status.busy": "2020-12-27T15:32:32.418123Z",
     "iopub.status.idle": "2020-12-27T15:32:32.423352Z",
     "shell.execute_reply": "2020-12-27T15:32:32.423925Z"
    },
    "papermill": {
     "duration": 0.038467,
     "end_time": "2020-12-27T15:32:32.424063",
     "exception": false,
     "start_time": "2020-12-27T15:32:32.385596",
     "status": "completed"
    },
    "tags": []
   },
   "outputs": [
    {
     "data": {
      "text/plain": [
       "(891, 12)"
      ]
     },
     "execution_count": 24,
     "metadata": {},
     "output_type": "execute_result"
    }
   ],
   "source": [
    "df.shape"
   ]
  },
  {
   "cell_type": "code",
   "execution_count": 25,
   "metadata": {
    "execution": {
     "iopub.execute_input": "2020-12-27T15:32:32.488798Z",
     "iopub.status.busy": "2020-12-27T15:32:32.488126Z",
     "iopub.status.idle": "2020-12-27T15:32:32.769687Z",
     "shell.execute_reply": "2020-12-27T15:32:32.770158Z"
    },
    "papermill": {
     "duration": 0.315628,
     "end_time": "2020-12-27T15:32:32.770307",
     "exception": false,
     "start_time": "2020-12-27T15:32:32.454679",
     "status": "completed"
    },
    "tags": []
   },
   "outputs": [
    {
     "data": {
      "text/plain": [
       "<AxesSubplot:>"
      ]
     },
     "execution_count": 25,
     "metadata": {},
     "output_type": "execute_result"
    },
    {
     "data": {
      "image/png": "[encoded data removed]",
      "text/plain": [
       "<Figure size 432x288 with 1 Axes>"
      ]
     },
     "metadata": {},
     "output_type": "display_data"
    }
   ],
   "source": [
    "sns.heatmap(df.isnull(),yticklabels=False,cbar=False,cmap='viridis')"
   ]
  },
  {
   "cell_type": "markdown",
   "metadata": {
    "papermill": {
     "duration": 0.03147,
     "end_time": "2020-12-27T15:32:32.833988",
     "exception": false,
     "start_time": "2020-12-27T15:32:32.802518",
     "status": "completed"
    },
    "tags": []
   },
   "source": [
    "#### We can conclude here that the Age and Cabin columns have null values, which need to be taken care before feeding the data to the model"
   ]
  },
  {
   "cell_type": "code",
   "execution_count": 26,
   "metadata": {
    "execution": {
     "iopub.execute_input": "2020-12-27T15:32:32.904142Z",
     "iopub.status.busy": "2020-12-27T15:32:32.903376Z",
     "iopub.status.idle": "2020-12-27T15:32:33.071638Z",
     "shell.execute_reply": "2020-12-27T15:32:33.072190Z"
    },
    "papermill": {
     "duration": 0.206821,
     "end_time": "2020-12-27T15:32:33.072339",
     "exception": false,
     "start_time": "2020-12-27T15:32:32.865518",
     "status": "completed"
    },
    "tags": []
   },
   "outputs": [
    {
     "data": {
      "text/plain": [
       "<AxesSubplot:xlabel='Survived', ylabel='count'>"
      ]
     },
     "execution_count": 26,
     "metadata": {},
     "output_type": "execute_result"
    },
    {
     "data": {
      "image/png": "[encoded data removed]",
      "text/plain": [
       "<Figure size 432x288 with 1 Axes>"
      ]
     },
     "metadata": {},
     "output_type": "display_data"
    }
   ],
   "source": [
    "sns.countplot(x='Survived',data=df,palette=\"Set1\",hue='Sex')"
   ]
  },
  {
   "cell_type": "markdown",
   "metadata": {
    "papermill": {
     "duration": 0.032077,
     "end_time": "2020-12-27T15:32:33.138138",
     "exception": false,
     "start_time": "2020-12-27T15:32:33.106061",
     "status": "completed"
    },
    "tags": []
   },
   "source": [
    "#### From above figure, it is clear that the most of the survived(1) people are Females and majority of the people who not survived (0) are males"
   ]
  },
  {
   "cell_type": "code",
   "execution_count": 27,
   "metadata": {
    "execution": {
     "iopub.execute_input": "2020-12-27T15:32:33.206161Z",
     "iopub.status.busy": "2020-12-27T15:32:33.205546Z",
     "iopub.status.idle": "2020-12-27T15:32:33.412305Z",
     "shell.execute_reply": "2020-12-27T15:32:33.412857Z"
    },
    "papermill": {
     "duration": 0.242391,
     "end_time": "2020-12-27T15:32:33.413002",
     "exception": false,
     "start_time": "2020-12-27T15:32:33.170611",
     "status": "completed"
    },
    "tags": []
   },
   "outputs": [
    {
     "data": {
      "text/plain": [
       "<AxesSubplot:xlabel='Survived', ylabel='count'>"
      ]
     },
     "execution_count": 27,
     "metadata": {},
     "output_type": "execute_result"
    },
    {
     "data": {
      "image/png": "[encoded data removed]",
      "text/plain": [
       "<Figure size 432x288 with 1 Axes>"
      ]
     },
     "metadata": {},
     "output_type": "display_data"
    }
   ],
   "source": [
    "sns.countplot(x='Survived',data=df,palette=\"Set1\",hue='Pclass')"
   ]
  },
  {
   "cell_type": "markdown",
   "metadata": {
    "papermill": {
     "duration": 0.033505,
     "end_time": "2020-12-27T15:32:33.480920",
     "exception": false,
     "start_time": "2020-12-27T15:32:33.447415",
     "status": "completed"
    },
    "tags": []
   },
   "source": [
    "#### From the above figure, it is clear that the people who survived(1) are from 1st passanger class and the people who not survived are majorly from 3rd passanger class"
   ]
  },
  {
   "cell_type": "code",
   "execution_count": 28,
   "metadata": {
    "execution": {
     "iopub.execute_input": "2020-12-27T15:32:33.551703Z",
     "iopub.status.busy": "2020-12-27T15:32:33.551055Z",
     "iopub.status.idle": "2020-12-27T15:32:33.944030Z",
     "shell.execute_reply": "2020-12-27T15:32:33.944616Z"
    },
    "papermill": {
     "duration": 0.430029,
     "end_time": "2020-12-27T15:32:33.944799",
     "exception": false,
     "start_time": "2020-12-27T15:32:33.514770",
     "status": "completed"
    },
    "tags": []
   },
   "outputs": [
    {
     "name": "stderr",
     "output_type": "stream",
     "text": [
      "C:\\Users\\Sydney\\anaconda3\\lib\\site-packages\\seaborn\\distributions.py:2557: FutureWarning: `distplot` is a deprecated function and will be removed in a future version. Please adapt your code to use either `displot` (a figure-level function with similar flexibility) or `histplot` (an axes-level function for histograms).\n",
      "  warnings.warn(msg, FutureWarning)\n"
     ]
    },
    {
     "data": {
      "text/plain": [
       "<AxesSubplot:xlabel='Age'>"
      ]
     },
     "execution_count": 28,
     "metadata": {},
     "output_type": "execute_result"
    },
    {
     "data": {
      "image/png": "[encoded data removed]",
      "text/plain": [
       "<Figure size 432x288 with 1 Axes>"
      ]
     },
     "metadata": {},
     "output_type": "display_data"
    }
   ],
   "source": [
    "sns.distplot(df['Age'].dropna(), kde=False, bins=30)"
   ]
  },
  {
   "cell_type": "markdown",
   "metadata": {
    "papermill": {
     "duration": 0.039186,
     "end_time": "2020-12-27T15:32:34.024029",
     "exception": false,
     "start_time": "2020-12-27T15:32:33.984843",
     "status": "completed"
    },
    "tags": []
   },
   "source": [
    "#### It is clear from above figure that there are alot of childrens from age 0 to 10 in the ship and apart from this the average age is around 25-30"
   ]
  },
  {
   "cell_type": "code",
   "execution_count": 29,
   "metadata": {
    "execution": {
     "iopub.execute_input": "2020-12-27T15:32:34.105091Z",
     "iopub.status.busy": "2020-12-27T15:32:34.104317Z",
     "iopub.status.idle": "2020-12-27T15:32:34.308079Z",
     "shell.execute_reply": "2020-12-27T15:32:34.308636Z"
    },
    "papermill": {
     "duration": 0.245676,
     "end_time": "2020-12-27T15:32:34.308788",
     "exception": false,
     "start_time": "2020-12-27T15:32:34.063112",
     "status": "completed"
    },
    "tags": []
   },
   "outputs": [
    {
     "data": {
      "text/plain": [
       "<AxesSubplot:xlabel='SibSp', ylabel='count'>"
      ]
     },
     "execution_count": 29,
     "metadata": {},
     "output_type": "execute_result"
    },
    {
     "data": {
      "image/png": "[encoded data removed]",
      "text/plain": [
       "<Figure size 432x288 with 1 Axes>"
      ]
     },
     "metadata": {},
     "output_type": "display_data"
    }
   ],
   "source": [
    "sns.countplot(x='SibSp',data=df)"
   ]
  },
  {
   "cell_type": "markdown",
   "metadata": {
    "papermill": {
     "duration": 0.036001,
     "end_time": "2020-12-27T15:32:34.381406",
     "exception": false,
     "start_time": "2020-12-27T15:32:34.345405",
     "status": "completed"
    },
    "tags": []
   },
   "source": [
    "#### As seen in above figure most of the people onboard are alone (i.e 0 no. of sibling/spouse) and other people are thosse who have 1 sibling/spouse most probably they must be the couples.\n"
   ]
  },
  {
   "cell_type": "code",
   "execution_count": 31,
   "metadata": {
    "execution": {
     "iopub.execute_input": "2020-12-27T15:32:34.503926Z",
     "iopub.status.busy": "2020-12-27T15:32:34.500731Z",
     "iopub.status.idle": "2020-12-27T15:32:34.816501Z",
     "shell.execute_reply": "2020-12-27T15:32:34.815858Z"
    },
    "papermill": {
     "duration": 0.391923,
     "end_time": "2020-12-27T15:32:34.816618",
     "exception": false,
     "start_time": "2020-12-27T15:32:34.424695",
     "status": "completed"
    },
    "tags": []
   },
   "outputs": [
    {
     "data": {
      "text/plain": [
       "<AxesSubplot:xlabel='Pclass', ylabel='Age'>"
      ]
     },
     "execution_count": 31,
     "metadata": {},
     "output_type": "execute_result"
    },
    {
     "data": {
      "image/png": "[encoded data removed]",
      "text/plain": [
       "<Figure size 432x288 with 1 Axes>"
      ]
     },
     "metadata": {},
     "output_type": "display_data"
    }
   ],
   "source": [
    "sns.boxplot(x='Pclass',y='Age',data=df)"
   ]
  },
  {
   "cell_type": "code",
   "execution_count": 32,
   "metadata": {
    "execution": {
     "iopub.execute_input": "2020-12-27T15:32:34.903508Z",
     "iopub.status.busy": "2020-12-27T15:32:34.902246Z",
     "iopub.status.idle": "2020-12-27T15:32:34.906826Z",
     "shell.execute_reply": "2020-12-27T15:32:34.907302Z"
    },
    "papermill": {
     "duration": 0.052777,
     "end_time": "2020-12-27T15:32:34.907475",
     "exception": false,
     "start_time": "2020-12-27T15:32:34.854698",
     "status": "completed"
    },
    "tags": []
   },
   "outputs": [
    {
     "data": {
      "text/plain": [
       "38.0"
      ]
     },
     "execution_count": 32,
     "metadata": {},
     "output_type": "execute_result"
    }
   ],
   "source": [
    "avg_age_first_class = np.round(df[(df['Pclass'] ==1)]['Age'].mean())\n",
    "avg_age_first_class"
   ]
  },
  {
   "cell_type": "code",
   "execution_count": 33,
   "metadata": {
    "execution": {
     "iopub.execute_input": "2020-12-27T15:32:34.993000Z",
     "iopub.status.busy": "2020-12-27T15:32:34.992082Z",
     "iopub.status.idle": "2020-12-27T15:32:34.996706Z",
     "shell.execute_reply": "2020-12-27T15:32:34.996146Z"
    },
    "papermill": {
     "duration": 0.051241,
     "end_time": "2020-12-27T15:32:34.996818",
     "exception": false,
     "start_time": "2020-12-27T15:32:34.945577",
     "status": "completed"
    },
    "tags": []
   },
   "outputs": [
    {
     "data": {
      "text/plain": [
       "30.0"
      ]
     },
     "execution_count": 33,
     "metadata": {},
     "output_type": "execute_result"
    }
   ],
   "source": [
    "avg_age_second_class = np.round(df[(df['Pclass'] ==2)]['Age'].mean())\n",
    "avg_age_second_class"
   ]
  },
  {
   "cell_type": "code",
   "execution_count": 34,
   "metadata": {
    "execution": {
     "iopub.execute_input": "2020-12-27T15:32:35.081774Z",
     "iopub.status.busy": "2020-12-27T15:32:35.080989Z",
     "iopub.status.idle": "2020-12-27T15:32:35.085350Z",
     "shell.execute_reply": "2020-12-27T15:32:35.084737Z"
    },
    "papermill": {
     "duration": 0.049728,
     "end_time": "2020-12-27T15:32:35.085476",
     "exception": false,
     "start_time": "2020-12-27T15:32:35.035748",
     "status": "completed"
    },
    "tags": []
   },
   "outputs": [
    {
     "data": {
      "text/plain": [
       "25.0"
      ]
     },
     "execution_count": 34,
     "metadata": {},
     "output_type": "execute_result"
    }
   ],
   "source": [
    "avg_age_third_class = np.round(df[(df['Pclass'] ==3)]['Age'].mean())\n",
    "avg_age_third_class"
   ]
  },
  {
   "cell_type": "markdown",
   "metadata": {
    "papermill": {
     "duration": 0.038402,
     "end_time": "2020-12-27T15:32:35.164118",
     "exception": false,
     "start_time": "2020-12-27T15:32:35.125716",
     "status": "completed"
    },
    "tags": []
   },
   "source": [
    "#### Since we have many empty values in Age column, so we will replace all the null value in Age with avg. value of age according to Pclass.\n",
    "\n",
    "#### Also from above boxplot we can see that the people who are in 1st class have avg. age of around 38, 2nd class passengers have avg. age of around 29 and 3rd class passengers have avg. age of around 25. This is because to afford 1st class tickets people should accumulate enough wealth so avg. age is higher"
   ]
  },
  {
   "cell_type": "code",
   "execution_count": 35,
   "metadata": {
    "execution": {
     "iopub.execute_input": "2020-12-27T15:32:35.255446Z",
     "iopub.status.busy": "2020-12-27T15:32:35.254393Z",
     "iopub.status.idle": "2020-12-27T15:32:35.257751Z",
     "shell.execute_reply": "2020-12-27T15:32:35.257076Z"
    },
    "papermill": {
     "duration": 0.054242,
     "end_time": "2020-12-27T15:32:35.257881",
     "exception": false,
     "start_time": "2020-12-27T15:32:35.203639",
     "status": "completed"
    },
    "tags": []
   },
   "outputs": [],
   "source": [
    "def impute_age(cols):\n",
    "    Age = cols[0]\n",
    "    Pclass = cols[1]\n",
    "    \n",
    "    if pd.isnull(Age):\n",
    "        \n",
    "        if Pclass ==1:\n",
    "            return avg_age_first_class\n",
    "        elif Pclass ==2:\n",
    "            return avg_age_second_class\n",
    "        else:\n",
    "            return avg_age_third_class\n",
    "    else:\n",
    "        return Age"
   ]
  },
  {
   "cell_type": "code",
   "execution_count": 36,
   "metadata": {
    "execution": {
     "iopub.execute_input": "2020-12-27T15:32:35.344677Z",
     "iopub.status.busy": "2020-12-27T15:32:35.344015Z",
     "iopub.status.idle": "2020-12-27T15:32:35.370125Z",
     "shell.execute_reply": "2020-12-27T15:32:35.370694Z"
    },
    "papermill": {
     "duration": 0.072611,
     "end_time": "2020-12-27T15:32:35.370863",
     "exception": false,
     "start_time": "2020-12-27T15:32:35.298252",
     "status": "completed"
    },
    "tags": []
   },
   "outputs": [],
   "source": [
    "df['Age'] = df[['Age','Pclass']].apply(impute_age,axis=1)"
   ]
  },
  {
   "cell_type": "code",
   "execution_count": 38,
   "metadata": {
    "execution": {
     "iopub.execute_input": "2020-12-27T15:32:35.458039Z",
     "iopub.status.busy": "2020-12-27T15:32:35.456975Z",
     "iopub.status.idle": "2020-12-27T15:32:35.684898Z",
     "shell.execute_reply": "2020-12-27T15:32:35.685491Z"
    },
    "papermill": {
     "duration": 0.274622,
     "end_time": "2020-12-27T15:32:35.685653",
     "exception": false,
     "start_time": "2020-12-27T15:32:35.411031",
     "status": "completed"
    },
    "tags": []
   },
   "outputs": [
    {
     "data": {
      "text/plain": [
       "<AxesSubplot:>"
      ]
     },
     "execution_count": 38,
     "metadata": {},
     "output_type": "execute_result"
    },
    {
     "data": {
      "image/png": "[encoded data removed]",
      "text/plain": [
       "<Figure size 432x288 with 1 Axes>"
      ]
     },
     "metadata": {},
     "output_type": "display_data"
    }
   ],
   "source": [
    "sns.heatmap(df.isnull(),yticklabels=False,cbar=False,cmap='viridis')"
   ]
  },
  {
   "cell_type": "markdown",
   "metadata": {
    "papermill": {
     "duration": 0.041299,
     "end_time": "2020-12-27T15:32:35.768486",
     "exception": false,
     "start_time": "2020-12-27T15:32:35.727187",
     "status": "completed"
    },
    "tags": []
   },
   "source": [
    "#### we have transformed null values in Age column as per out impute_age function. Now the null values in cabin column is large in number so it is better to drop the cabin column."
   ]
  },
  {
   "cell_type": "code",
   "execution_count": 39,
   "metadata": {
    "execution": {
     "iopub.execute_input": "2020-12-27T15:32:35.865478Z",
     "iopub.status.busy": "2020-12-27T15:32:35.864812Z",
     "iopub.status.idle": "2020-12-27T15:32:35.867705Z",
     "shell.execute_reply": "2020-12-27T15:32:35.868205Z"
    },
    "papermill": {
     "duration": 0.052937,
     "end_time": "2020-12-27T15:32:35.868353",
     "exception": false,
     "start_time": "2020-12-27T15:32:35.815416",
     "status": "completed"
    },
    "tags": []
   },
   "outputs": [],
   "source": [
    "df.drop('Cabin',axis=1,inplace=True)"
   ]
  },
  {
   "cell_type": "code",
   "execution_count": 40,
   "metadata": {
    "execution": {
     "iopub.execute_input": "2020-12-27T15:32:35.965283Z",
     "iopub.status.busy": "2020-12-27T15:32:35.964588Z",
     "iopub.status.idle": "2020-12-27T15:32:35.969003Z",
     "shell.execute_reply": "2020-12-27T15:32:35.968414Z"
    },
    "papermill": {
     "duration": 0.059885,
     "end_time": "2020-12-27T15:32:35.969114",
     "exception": false,
     "start_time": "2020-12-27T15:32:35.909229",
     "status": "completed"
    },
    "tags": []
   },
   "outputs": [
    {
     "name": "stdout",
     "output_type": "stream",
     "text": [
      "<class 'pandas.core.frame.DataFrame'>\n",
      "RangeIndex: 891 entries, 0 to 890\n",
      "Data columns (total 11 columns):\n",
      " #   Column       Non-Null Count  Dtype  \n",
      "---  ------       --------------  -----  \n",
      " 0   PassengerId  891 non-null    int64  \n",
      " 1   Survived     891 non-null    int64  \n",
      " 2   Pclass       891 non-null    int64  \n",
      " 3   Name         891 non-null    object \n",
      " 4   Sex          891 non-null    object \n",
      " 5   Age          891 non-null    float64\n",
      " 6   SibSp        891 non-null    int64  \n",
      " 7   Parch        891 non-null    int64  \n",
      " 8   Ticket       891 non-null    object \n",
      " 9   Fare         891 non-null    float64\n",
      " 10  Embarked     889 non-null    object \n",
      "dtypes: float64(2), int64(5), object(4)\n",
      "memory usage: 76.7+ KB\n"
     ]
    }
   ],
   "source": [
    "df.info()"
   ]
  },
  {
   "cell_type": "code",
   "execution_count": 41,
   "metadata": {
    "execution": {
     "iopub.execute_input": "2020-12-27T15:32:36.075984Z",
     "iopub.status.busy": "2020-12-27T15:32:36.068559Z",
     "iopub.status.idle": "2020-12-27T15:32:36.259892Z",
     "shell.execute_reply": "2020-12-27T15:32:36.259152Z"
    },
    "papermill": {
     "duration": 0.24917,
     "end_time": "2020-12-27T15:32:36.260025",
     "exception": false,
     "start_time": "2020-12-27T15:32:36.010855",
     "status": "completed"
    },
    "tags": []
   },
   "outputs": [
    {
     "data": {
      "text/plain": [
       "<AxesSubplot:>"
      ]
     },
     "execution_count": 41,
     "metadata": {},
     "output_type": "execute_result"
    },
    {
     "data": {
      "image/png": "[encoded data removed]",
      "text/plain": [
       "<Figure size 432x288 with 1 Axes>"
      ]
     },
     "metadata": {},
     "output_type": "display_data"
    }
   ],
   "source": [
    "sns.heatmap(df.isnull(),yticklabels=False,cbar=False,cmap='viridis')"
   ]
  },
  {
   "cell_type": "code",
   "execution_count": 42,
   "metadata": {
    "execution": {
     "iopub.execute_input": "2020-12-27T15:32:36.357735Z",
     "iopub.status.busy": "2020-12-27T15:32:36.356878Z",
     "iopub.status.idle": "2020-12-27T15:32:36.360495Z",
     "shell.execute_reply": "2020-12-27T15:32:36.359842Z"
    },
    "papermill": {
     "duration": 0.052751,
     "end_time": "2020-12-27T15:32:36.360615",
     "exception": false,
     "start_time": "2020-12-27T15:32:36.307864",
     "status": "completed"
    },
    "tags": []
   },
   "outputs": [],
   "source": [
    "sex = pd.get_dummies(df['Sex'],drop_first=True)"
   ]
  },
  {
   "cell_type": "code",
   "execution_count": 43,
   "metadata": {
    "execution": {
     "iopub.execute_input": "2020-12-27T15:32:36.454086Z",
     "iopub.status.busy": "2020-12-27T15:32:36.453116Z",
     "iopub.status.idle": "2020-12-27T15:32:36.455791Z",
     "shell.execute_reply": "2020-12-27T15:32:36.456264Z"
    },
    "papermill": {
     "duration": 0.05277,
     "end_time": "2020-12-27T15:32:36.456439",
     "exception": false,
     "start_time": "2020-12-27T15:32:36.403669",
     "status": "completed"
    },
    "tags": []
   },
   "outputs": [],
   "source": [
    "embark = pd.get_dummies(df['Embarked'],drop_first=True)"
   ]
  },
  {
   "cell_type": "code",
   "execution_count": 44,
   "metadata": {
    "execution": {
     "iopub.execute_input": "2020-12-27T15:32:36.569623Z",
     "iopub.status.busy": "2020-12-27T15:32:36.568947Z",
     "iopub.status.idle": "2020-12-27T15:32:36.572624Z",
     "shell.execute_reply": "2020-12-27T15:32:36.572039Z"
    },
    "papermill": {
     "duration": 0.065178,
     "end_time": "2020-12-27T15:32:36.572759",
     "exception": false,
     "start_time": "2020-12-27T15:32:36.507581",
     "status": "completed"
    },
    "tags": []
   },
   "outputs": [],
   "source": [
    "df = pd.concat([df,sex,embark], axis=1)"
   ]
  },
  {
   "cell_type": "code",
   "execution_count": 45,
   "metadata": {
    "execution": {
     "iopub.execute_input": "2020-12-27T15:32:36.696903Z",
     "iopub.status.busy": "2020-12-27T15:32:36.688759Z",
     "iopub.status.idle": "2020-12-27T15:32:36.702486Z",
     "shell.execute_reply": "2020-12-27T15:32:36.701862Z"
    },
    "papermill": {
     "duration": 0.069727,
     "end_time": "2020-12-27T15:32:36.702616",
     "exception": false,
     "start_time": "2020-12-27T15:32:36.632889",
     "status": "completed"
    },
    "tags": []
   },
   "outputs": [
    {
     "data": {
      "text/html": [
       "<div>\n",
       "<style scoped>\n",
       "    .dataframe tbody tr th:only-of-type {\n",
       "        vertical-align: middle;\n",
       "    }\n",
       "\n",
       "    .dataframe tbody tr th {\n",
       "        vertical-align: top;\n",
       "    }\n",
       "\n",
       "    .dataframe thead th {\n",
       "        text-align: right;\n",
       "    }\n",
       "</style>\n",
       "<table border=\"1\" class=\"dataframe\">\n",
       "  <thead>\n",
       "    <tr style=\"text-align: right;\">\n",
       "      <th></th>\n",
       "      <th>PassengerId</th>\n",
       "      <th>Survived</th>\n",
       "      <th>Pclass</th>\n",
       "      <th>Name</th>\n",
       "      <th>Sex</th>\n",
       "      <th>Age</th>\n",
       "      <th>SibSp</th>\n",
       "      <th>Parch</th>\n",
       "      <th>Ticket</th>\n",
       "      <th>Fare</th>\n",
       "      <th>Embarked</th>\n",
       "      <th>male</th>\n",
       "      <th>Q</th>\n",
       "      <th>S</th>\n",
       "    </tr>\n",
       "  </thead>\n",
       "  <tbody>\n",
       "    <tr>\n",
       "      <th>0</th>\n",
       "      <td>1</td>\n",
       "      <td>0</td>\n",
       "      <td>3</td>\n",
       "      <td>Braund, Mr. Owen Harris</td>\n",
       "      <td>male</td>\n",
       "      <td>22.0</td>\n",
       "      <td>1</td>\n",
       "      <td>0</td>\n",
       "      <td>A/5 21171</td>\n",
       "      <td>7.2500</td>\n",
       "      <td>S</td>\n",
       "      <td>1</td>\n",
       "      <td>0</td>\n",
       "      <td>1</td>\n",
       "    </tr>\n",
       "    <tr>\n",
       "      <th>1</th>\n",
       "      <td>2</td>\n",
       "      <td>1</td>\n",
       "      <td>1</td>\n",
       "      <td>Cumings, Mrs. John Bradley (Florence Briggs Th...</td>\n",
       "      <td>female</td>\n",
       "      <td>38.0</td>\n",
       "      <td>1</td>\n",
       "      <td>0</td>\n",
       "      <td>PC 17599</td>\n",
       "      <td>71.2833</td>\n",
       "      <td>C</td>\n",
       "      <td>0</td>\n",
       "      <td>0</td>\n",
       "      <td>0</td>\n",
       "    </tr>\n",
       "    <tr>\n",
       "      <th>2</th>\n",
       "      <td>3</td>\n",
       "      <td>1</td>\n",
       "      <td>3</td>\n",
       "      <td>Heikkinen, Miss. Laina</td>\n",
       "      <td>female</td>\n",
       "      <td>26.0</td>\n",
       "      <td>0</td>\n",
       "      <td>0</td>\n",
       "      <td>STON/O2. 3101282</td>\n",
       "      <td>7.9250</td>\n",
       "      <td>S</td>\n",
       "      <td>0</td>\n",
       "      <td>0</td>\n",
       "      <td>1</td>\n",
       "    </tr>\n",
       "    <tr>\n",
       "      <th>3</th>\n",
       "      <td>4</td>\n",
       "      <td>1</td>\n",
       "      <td>1</td>\n",
       "      <td>Futrelle, Mrs. Jacques Heath (Lily May Peel)</td>\n",
       "      <td>female</td>\n",
       "      <td>35.0</td>\n",
       "      <td>1</td>\n",
       "      <td>0</td>\n",
       "      <td>113803</td>\n",
       "      <td>53.1000</td>\n",
       "      <td>S</td>\n",
       "      <td>0</td>\n",
       "      <td>0</td>\n",
       "      <td>1</td>\n",
       "    </tr>\n",
       "    <tr>\n",
       "      <th>4</th>\n",
       "      <td>5</td>\n",
       "      <td>0</td>\n",
       "      <td>3</td>\n",
       "      <td>Allen, Mr. William Henry</td>\n",
       "      <td>male</td>\n",
       "      <td>35.0</td>\n",
       "      <td>0</td>\n",
       "      <td>0</td>\n",
       "      <td>373450</td>\n",
       "      <td>8.0500</td>\n",
       "      <td>S</td>\n",
       "      <td>1</td>\n",
       "      <td>0</td>\n",
       "      <td>1</td>\n",
       "    </tr>\n",
       "  </tbody>\n",
       "</table>\n",
       "</div>"
      ],
      "text/plain": [
       "   PassengerId  Survived  Pclass  \\\n",
       "0            1         0       3   \n",
       "1            2         1       1   \n",
       "2            3         1       3   \n",
       "3            4         1       1   \n",
       "4            5         0       3   \n",
       "\n",
       "                                                Name     Sex   Age  SibSp  \\\n",
       "0                            Braund, Mr. Owen Harris    male  22.0      1   \n",
       "1  Cumings, Mrs. John Bradley (Florence Briggs Th...  female  38.0      1   \n",
       "2                             Heikkinen, Miss. Laina  female  26.0      0   \n",
       "3       Futrelle, Mrs. Jacques Heath (Lily May Peel)  female  35.0      1   \n",
       "4                           Allen, Mr. William Henry    male  35.0      0   \n",
       "\n",
       "   Parch            Ticket     Fare Embarked  male  Q  S  \n",
       "0      0         A/5 21171   7.2500        S     1  0  1  \n",
       "1      0          PC 17599  71.2833        C     0  0  0  \n",
       "2      0  STON/O2. 3101282   7.9250        S     0  0  1  \n",
       "3      0            113803  53.1000        S     0  0  1  \n",
       "4      0            373450   8.0500        S     1  0  1  "
      ]
     },
     "execution_count": 45,
     "metadata": {},
     "output_type": "execute_result"
    }
   ],
   "source": [
    "df.head()"
   ]
  },
  {
   "cell_type": "code",
   "execution_count": 46,
   "metadata": {
    "execution": {
     "iopub.execute_input": "2020-12-27T15:32:36.798398Z",
     "iopub.status.busy": "2020-12-27T15:32:36.797368Z",
     "iopub.status.idle": "2020-12-27T15:32:36.802096Z",
     "shell.execute_reply": "2020-12-27T15:32:36.801601Z"
    },
    "papermill": {
     "duration": 0.05574,
     "end_time": "2020-12-27T15:32:36.802211",
     "exception": false,
     "start_time": "2020-12-27T15:32:36.746471",
     "status": "completed"
    },
    "tags": []
   },
   "outputs": [],
   "source": [
    "df.drop(['Sex','Embarked','Name','Ticket'],axis=1,inplace=True)"
   ]
  },
  {
   "cell_type": "code",
   "execution_count": 47,
   "metadata": {
    "execution": {
     "iopub.execute_input": "2020-12-27T15:32:36.915782Z",
     "iopub.status.busy": "2020-12-27T15:32:36.914752Z",
     "iopub.status.idle": "2020-12-27T15:32:36.919187Z",
     "shell.execute_reply": "2020-12-27T15:32:36.918491Z"
    },
    "papermill": {
     "duration": 0.066545,
     "end_time": "2020-12-27T15:32:36.919329",
     "exception": false,
     "start_time": "2020-12-27T15:32:36.852784",
     "status": "completed"
    },
    "tags": []
   },
   "outputs": [
    {
     "data": {
      "text/html": [
       "<div>\n",
       "<style scoped>\n",
       "    .dataframe tbody tr th:only-of-type {\n",
       "        vertical-align: middle;\n",
       "    }\n",
       "\n",
       "    .dataframe tbody tr th {\n",
       "        vertical-align: top;\n",
       "    }\n",
       "\n",
       "    .dataframe thead th {\n",
       "        text-align: right;\n",
       "    }\n",
       "</style>\n",
       "<table border=\"1\" class=\"dataframe\">\n",
       "  <thead>\n",
       "    <tr style=\"text-align: right;\">\n",
       "      <th></th>\n",
       "      <th>PassengerId</th>\n",
       "      <th>Survived</th>\n",
       "      <th>Pclass</th>\n",
       "      <th>Age</th>\n",
       "      <th>SibSp</th>\n",
       "      <th>Parch</th>\n",
       "      <th>Fare</th>\n",
       "      <th>male</th>\n",
       "      <th>Q</th>\n",
       "      <th>S</th>\n",
       "    </tr>\n",
       "  </thead>\n",
       "  <tbody>\n",
       "    <tr>\n",
       "      <th>0</th>\n",
       "      <td>1</td>\n",
       "      <td>0</td>\n",
       "      <td>3</td>\n",
       "      <td>22.0</td>\n",
       "      <td>1</td>\n",
       "      <td>0</td>\n",
       "      <td>7.2500</td>\n",
       "      <td>1</td>\n",
       "      <td>0</td>\n",
       "      <td>1</td>\n",
       "    </tr>\n",
       "    <tr>\n",
       "      <th>1</th>\n",
       "      <td>2</td>\n",
       "      <td>1</td>\n",
       "      <td>1</td>\n",
       "      <td>38.0</td>\n",
       "      <td>1</td>\n",
       "      <td>0</td>\n",
       "      <td>71.2833</td>\n",
       "      <td>0</td>\n",
       "      <td>0</td>\n",
       "      <td>0</td>\n",
       "    </tr>\n",
       "    <tr>\n",
       "      <th>2</th>\n",
       "      <td>3</td>\n",
       "      <td>1</td>\n",
       "      <td>3</td>\n",
       "      <td>26.0</td>\n",
       "      <td>0</td>\n",
       "      <td>0</td>\n",
       "      <td>7.9250</td>\n",
       "      <td>0</td>\n",
       "      <td>0</td>\n",
       "      <td>1</td>\n",
       "    </tr>\n",
       "    <tr>\n",
       "      <th>3</th>\n",
       "      <td>4</td>\n",
       "      <td>1</td>\n",
       "      <td>1</td>\n",
       "      <td>35.0</td>\n",
       "      <td>1</td>\n",
       "      <td>0</td>\n",
       "      <td>53.1000</td>\n",
       "      <td>0</td>\n",
       "      <td>0</td>\n",
       "      <td>1</td>\n",
       "    </tr>\n",
       "    <tr>\n",
       "      <th>4</th>\n",
       "      <td>5</td>\n",
       "      <td>0</td>\n",
       "      <td>3</td>\n",
       "      <td>35.0</td>\n",
       "      <td>0</td>\n",
       "      <td>0</td>\n",
       "      <td>8.0500</td>\n",
       "      <td>1</td>\n",
       "      <td>0</td>\n",
       "      <td>1</td>\n",
       "    </tr>\n",
       "  </tbody>\n",
       "</table>\n",
       "</div>"
      ],
      "text/plain": [
       "   PassengerId  Survived  Pclass   Age  SibSp  Parch     Fare  male  Q  S\n",
       "0            1         0       3  22.0      1      0   7.2500     1  0  1\n",
       "1            2         1       1  38.0      1      0  71.2833     0  0  0\n",
       "2            3         1       3  26.0      0      0   7.9250     0  0  1\n",
       "3            4         1       1  35.0      1      0  53.1000     0  0  1\n",
       "4            5         0       3  35.0      0      0   8.0500     1  0  1"
      ]
     },
     "execution_count": 47,
     "metadata": {},
     "output_type": "execute_result"
    }
   ],
   "source": [
    "df.head()"
   ]
  },
  {
   "cell_type": "code",
   "execution_count": 48,
   "metadata": {
    "execution": {
     "iopub.execute_input": "2020-12-27T15:32:37.031040Z",
     "iopub.status.busy": "2020-12-27T15:32:37.030012Z",
     "iopub.status.idle": "2020-12-27T15:32:37.034475Z",
     "shell.execute_reply": "2020-12-27T15:32:37.033883Z"
    },
    "papermill": {
     "duration": 0.063492,
     "end_time": "2020-12-27T15:32:37.034593",
     "exception": false,
     "start_time": "2020-12-27T15:32:36.971101",
     "status": "completed"
    },
    "tags": []
   },
   "outputs": [
    {
     "data": {
      "text/html": [
       "<div>\n",
       "<style scoped>\n",
       "    .dataframe tbody tr th:only-of-type {\n",
       "        vertical-align: middle;\n",
       "    }\n",
       "\n",
       "    .dataframe tbody tr th {\n",
       "        vertical-align: top;\n",
       "    }\n",
       "\n",
       "    .dataframe thead th {\n",
       "        text-align: right;\n",
       "    }\n",
       "</style>\n",
       "<table border=\"1\" class=\"dataframe\">\n",
       "  <thead>\n",
       "    <tr style=\"text-align: right;\">\n",
       "      <th></th>\n",
       "      <th>PassengerId</th>\n",
       "      <th>Survived</th>\n",
       "      <th>Pclass</th>\n",
       "      <th>Age</th>\n",
       "      <th>SibSp</th>\n",
       "      <th>Parch</th>\n",
       "      <th>Fare</th>\n",
       "      <th>male</th>\n",
       "      <th>Q</th>\n",
       "      <th>S</th>\n",
       "    </tr>\n",
       "  </thead>\n",
       "  <tbody>\n",
       "    <tr>\n",
       "      <th>886</th>\n",
       "      <td>887</td>\n",
       "      <td>0</td>\n",
       "      <td>2</td>\n",
       "      <td>27.0</td>\n",
       "      <td>0</td>\n",
       "      <td>0</td>\n",
       "      <td>13.00</td>\n",
       "      <td>1</td>\n",
       "      <td>0</td>\n",
       "      <td>1</td>\n",
       "    </tr>\n",
       "    <tr>\n",
       "      <th>887</th>\n",
       "      <td>888</td>\n",
       "      <td>1</td>\n",
       "      <td>1</td>\n",
       "      <td>19.0</td>\n",
       "      <td>0</td>\n",
       "      <td>0</td>\n",
       "      <td>30.00</td>\n",
       "      <td>0</td>\n",
       "      <td>0</td>\n",
       "      <td>1</td>\n",
       "    </tr>\n",
       "    <tr>\n",
       "      <th>888</th>\n",
       "      <td>889</td>\n",
       "      <td>0</td>\n",
       "      <td>3</td>\n",
       "      <td>25.0</td>\n",
       "      <td>1</td>\n",
       "      <td>2</td>\n",
       "      <td>23.45</td>\n",
       "      <td>0</td>\n",
       "      <td>0</td>\n",
       "      <td>1</td>\n",
       "    </tr>\n",
       "    <tr>\n",
       "      <th>889</th>\n",
       "      <td>890</td>\n",
       "      <td>1</td>\n",
       "      <td>1</td>\n",
       "      <td>26.0</td>\n",
       "      <td>0</td>\n",
       "      <td>0</td>\n",
       "      <td>30.00</td>\n",
       "      <td>1</td>\n",
       "      <td>0</td>\n",
       "      <td>0</td>\n",
       "    </tr>\n",
       "    <tr>\n",
       "      <th>890</th>\n",
       "      <td>891</td>\n",
       "      <td>0</td>\n",
       "      <td>3</td>\n",
       "      <td>32.0</td>\n",
       "      <td>0</td>\n",
       "      <td>0</td>\n",
       "      <td>7.75</td>\n",
       "      <td>1</td>\n",
       "      <td>1</td>\n",
       "      <td>0</td>\n",
       "    </tr>\n",
       "  </tbody>\n",
       "</table>\n",
       "</div>"
      ],
      "text/plain": [
       "     PassengerId  Survived  Pclass   Age  SibSp  Parch   Fare  male  Q  S\n",
       "886          887         0       2  27.0      0      0  13.00     1  0  1\n",
       "887          888         1       1  19.0      0      0  30.00     0  0  1\n",
       "888          889         0       3  25.0      1      2  23.45     0  0  1\n",
       "889          890         1       1  26.0      0      0  30.00     1  0  0\n",
       "890          891         0       3  32.0      0      0   7.75     1  1  0"
      ]
     },
     "execution_count": 48,
     "metadata": {},
     "output_type": "execute_result"
    }
   ],
   "source": [
    "df.tail()"
   ]
  },
  {
   "cell_type": "code",
   "execution_count": 49,
   "metadata": {
    "execution": {
     "iopub.execute_input": "2020-12-27T15:32:37.133271Z",
     "iopub.status.busy": "2020-12-27T15:32:37.132440Z",
     "iopub.status.idle": "2020-12-27T15:32:37.135636Z",
     "shell.execute_reply": "2020-12-27T15:32:37.134917Z"
    },
    "papermill": {
     "duration": 0.055902,
     "end_time": "2020-12-27T15:32:37.135758",
     "exception": false,
     "start_time": "2020-12-27T15:32:37.079856",
     "status": "completed"
    },
    "tags": []
   },
   "outputs": [],
   "source": [
    "df.drop(['PassengerId'],axis=1,inplace=True)"
   ]
  },
  {
   "cell_type": "code",
   "execution_count": 50,
   "metadata": {
    "execution": {
     "iopub.execute_input": "2020-12-27T15:32:37.241708Z",
     "iopub.status.busy": "2020-12-27T15:32:37.240735Z",
     "iopub.status.idle": "2020-12-27T15:32:37.245314Z",
     "shell.execute_reply": "2020-12-27T15:32:37.244712Z"
    },
    "papermill": {
     "duration": 0.063804,
     "end_time": "2020-12-27T15:32:37.245443",
     "exception": false,
     "start_time": "2020-12-27T15:32:37.181639",
     "status": "completed"
    },
    "tags": []
   },
   "outputs": [
    {
     "data": {
      "text/html": [
       "<div>\n",
       "<style scoped>\n",
       "    .dataframe tbody tr th:only-of-type {\n",
       "        vertical-align: middle;\n",
       "    }\n",
       "\n",
       "    .dataframe tbody tr th {\n",
       "        vertical-align: top;\n",
       "    }\n",
       "\n",
       "    .dataframe thead th {\n",
       "        text-align: right;\n",
       "    }\n",
       "</style>\n",
       "<table border=\"1\" class=\"dataframe\">\n",
       "  <thead>\n",
       "    <tr style=\"text-align: right;\">\n",
       "      <th></th>\n",
       "      <th>Survived</th>\n",
       "      <th>Pclass</th>\n",
       "      <th>Age</th>\n",
       "      <th>SibSp</th>\n",
       "      <th>Parch</th>\n",
       "      <th>Fare</th>\n",
       "      <th>male</th>\n",
       "      <th>Q</th>\n",
       "      <th>S</th>\n",
       "    </tr>\n",
       "  </thead>\n",
       "  <tbody>\n",
       "    <tr>\n",
       "      <th>0</th>\n",
       "      <td>0</td>\n",
       "      <td>3</td>\n",
       "      <td>22.0</td>\n",
       "      <td>1</td>\n",
       "      <td>0</td>\n",
       "      <td>7.2500</td>\n",
       "      <td>1</td>\n",
       "      <td>0</td>\n",
       "      <td>1</td>\n",
       "    </tr>\n",
       "    <tr>\n",
       "      <th>1</th>\n",
       "      <td>1</td>\n",
       "      <td>1</td>\n",
       "      <td>38.0</td>\n",
       "      <td>1</td>\n",
       "      <td>0</td>\n",
       "      <td>71.2833</td>\n",
       "      <td>0</td>\n",
       "      <td>0</td>\n",
       "      <td>0</td>\n",
       "    </tr>\n",
       "    <tr>\n",
       "      <th>2</th>\n",
       "      <td>1</td>\n",
       "      <td>3</td>\n",
       "      <td>26.0</td>\n",
       "      <td>0</td>\n",
       "      <td>0</td>\n",
       "      <td>7.9250</td>\n",
       "      <td>0</td>\n",
       "      <td>0</td>\n",
       "      <td>1</td>\n",
       "    </tr>\n",
       "    <tr>\n",
       "      <th>3</th>\n",
       "      <td>1</td>\n",
       "      <td>1</td>\n",
       "      <td>35.0</td>\n",
       "      <td>1</td>\n",
       "      <td>0</td>\n",
       "      <td>53.1000</td>\n",
       "      <td>0</td>\n",
       "      <td>0</td>\n",
       "      <td>1</td>\n",
       "    </tr>\n",
       "    <tr>\n",
       "      <th>4</th>\n",
       "      <td>0</td>\n",
       "      <td>3</td>\n",
       "      <td>35.0</td>\n",
       "      <td>0</td>\n",
       "      <td>0</td>\n",
       "      <td>8.0500</td>\n",
       "      <td>1</td>\n",
       "      <td>0</td>\n",
       "      <td>1</td>\n",
       "    </tr>\n",
       "  </tbody>\n",
       "</table>\n",
       "</div>"
      ],
      "text/plain": [
       "   Survived  Pclass   Age  SibSp  Parch     Fare  male  Q  S\n",
       "0         0       3  22.0      1      0   7.2500     1  0  1\n",
       "1         1       1  38.0      1      0  71.2833     0  0  0\n",
       "2         1       3  26.0      0      0   7.9250     0  0  1\n",
       "3         1       1  35.0      1      0  53.1000     0  0  1\n",
       "4         0       3  35.0      0      0   8.0500     1  0  1"
      ]
     },
     "execution_count": 50,
     "metadata": {},
     "output_type": "execute_result"
    }
   ],
   "source": [
    "df.head()"
   ]
  },
  {
   "cell_type": "code",
   "execution_count": 52,
   "metadata": {
    "execution": {
     "iopub.execute_input": "2020-12-27T15:32:37.344853Z",
     "iopub.status.busy": "2020-12-27T15:32:37.344081Z",
     "iopub.status.idle": "2020-12-27T15:32:37.346533Z",
     "shell.execute_reply": "2020-12-27T15:32:37.347038Z"
    },
    "papermill": {
     "duration": 0.055479,
     "end_time": "2020-12-27T15:32:37.347174",
     "exception": false,
     "start_time": "2020-12-27T15:32:37.291695",
     "status": "completed"
    },
    "tags": []
   },
   "outputs": [],
   "source": [
    "X = df.drop('Survived',axis=1)\n",
    "y = df['Survived']"
   ]
  },
  {
   "cell_type": "code",
   "execution_count": 53,
   "metadata": {
    "execution": {
     "iopub.execute_input": "2020-12-27T15:32:37.444682Z",
     "iopub.status.busy": "2020-12-27T15:32:37.443863Z",
     "iopub.status.idle": "2020-12-27T15:32:37.659644Z",
     "shell.execute_reply": "2020-12-27T15:32:37.658878Z"
    },
    "papermill": {
     "duration": 0.26655,
     "end_time": "2020-12-27T15:32:37.659777",
     "exception": false,
     "start_time": "2020-12-27T15:32:37.393227",
     "status": "completed"
    },
    "tags": []
   },
   "outputs": [],
   "source": [
    "from sklearn.model_selection import train_test_split\n",
    "from sklearn.linear_model import LogisticRegression"
   ]
  },
  {
   "cell_type": "code",
   "execution_count": 54,
   "metadata": {
    "execution": {
     "iopub.execute_input": "2020-12-27T15:32:37.762067Z",
     "iopub.status.busy": "2020-12-27T15:32:37.761135Z",
     "iopub.status.idle": "2020-12-27T15:32:37.764569Z",
     "shell.execute_reply": "2020-12-27T15:32:37.763958Z"
    },
    "papermill": {
     "duration": 0.057652,
     "end_time": "2020-12-27T15:32:37.764689",
     "exception": false,
     "start_time": "2020-12-27T15:32:37.707037",
     "status": "completed"
    },
    "tags": []
   },
   "outputs": [],
   "source": [
    "X_train, X_test, y_train, y_test = train_test_split(X, y, test_size=0.3, random_state=101)"
   ]
  },
  {
   "cell_type": "code",
   "execution_count": 55,
   "metadata": {
    "execution": {
     "iopub.execute_input": "2020-12-27T15:32:37.864176Z",
     "iopub.status.busy": "2020-12-27T15:32:37.863503Z",
     "iopub.status.idle": "2020-12-27T15:32:37.866228Z",
     "shell.execute_reply": "2020-12-27T15:32:37.865571Z"
    },
    "papermill": {
     "duration": 0.054457,
     "end_time": "2020-12-27T15:32:37.866342",
     "exception": false,
     "start_time": "2020-12-27T15:32:37.811885",
     "status": "completed"
    },
    "tags": []
   },
   "outputs": [],
   "source": [
    "logmodel = LogisticRegression()"
   ]
  },
  {
   "cell_type": "code",
   "execution_count": 56,
   "metadata": {
    "execution": {
     "iopub.execute_input": "2020-12-27T15:32:37.968540Z",
     "iopub.status.busy": "2020-12-27T15:32:37.967780Z",
     "iopub.status.idle": "2020-12-27T15:32:38.039128Z",
     "shell.execute_reply": "2020-12-27T15:32:38.038375Z"
    },
    "papermill": {
     "duration": 0.126039,
     "end_time": "2020-12-27T15:32:38.039269",
     "exception": false,
     "start_time": "2020-12-27T15:32:37.913230",
     "status": "completed"
    },
    "tags": []
   },
   "outputs": [
    {
     "name": "stderr",
     "output_type": "stream",
     "text": [
      "C:\\Users\\Sydney\\anaconda3\\lib\\site-packages\\sklearn\\linear_model\\_logistic.py:763: ConvergenceWarning: lbfgs failed to converge (status=1):\n",
      "STOP: TOTAL NO. of ITERATIONS REACHED LIMIT.\n",
      "\n",
      "Increase the number of iterations (max_iter) or scale the data as shown in:\n",
      "    https://scikit-learn.org/stable/modules/preprocessing.html\n",
      "Please also refer to the documentation for alternative solver options:\n",
      "    https://scikit-learn.org/stable/modules/linear_model.html#logistic-regression\n",
      "  n_iter_i = _check_optimize_result(\n"
     ]
    },
    {
     "data": {
      "text/plain": [
       "LogisticRegression()"
      ]
     },
     "execution_count": 56,
     "metadata": {},
     "output_type": "execute_result"
    }
   ],
   "source": [
    "logmodel.fit(X_train,y_train)"
   ]
  },
  {
   "cell_type": "code",
   "execution_count": 57,
   "metadata": {
    "execution": {
     "iopub.execute_input": "2020-12-27T15:32:38.147311Z",
     "iopub.status.busy": "2020-12-27T15:32:38.146191Z",
     "iopub.status.idle": "2020-12-27T15:32:38.149933Z",
     "shell.execute_reply": "2020-12-27T15:32:38.149318Z"
    },
    "papermill": {
     "duration": 0.060335,
     "end_time": "2020-12-27T15:32:38.150056",
     "exception": false,
     "start_time": "2020-12-27T15:32:38.089721",
     "status": "completed"
    },
    "tags": []
   },
   "outputs": [],
   "source": [
    "predictions = logmodel.predict(X_test)"
   ]
  },
  {
   "cell_type": "code",
   "execution_count": 58,
   "metadata": {
    "execution": {
     "iopub.execute_input": "2020-12-27T15:32:38.262450Z",
     "iopub.status.busy": "2020-12-27T15:32:38.261768Z",
     "iopub.status.idle": "2020-12-27T15:32:38.264875Z",
     "shell.execute_reply": "2020-12-27T15:32:38.264249Z"
    },
    "papermill": {
     "duration": 0.061534,
     "end_time": "2020-12-27T15:32:38.264983",
     "exception": false,
     "start_time": "2020-12-27T15:32:38.203449",
     "status": "completed"
    },
    "tags": []
   },
   "outputs": [],
   "source": [
    "from sklearn.metrics import classification_report"
   ]
  },
  {
   "cell_type": "code",
   "execution_count": 59,
   "metadata": {
    "execution": {
     "iopub.execute_input": "2020-12-27T15:32:38.367302Z",
     "iopub.status.busy": "2020-12-27T15:32:38.366267Z",
     "iopub.status.idle": "2020-12-27T15:32:38.378230Z",
     "shell.execute_reply": "2020-12-27T15:32:38.377565Z"
    },
    "papermill": {
     "duration": 0.065166,
     "end_time": "2020-12-27T15:32:38.378344",
     "exception": false,
     "start_time": "2020-12-27T15:32:38.313178",
     "status": "completed"
    },
    "tags": []
   },
   "outputs": [
    {
     "name": "stdout",
     "output_type": "stream",
     "text": [
      "              precision    recall  f1-score   support\n",
      "\n",
      "           0       0.78      0.86      0.82       154\n",
      "           1       0.78      0.67      0.72       114\n",
      "\n",
      "    accuracy                           0.78       268\n",
      "   macro avg       0.78      0.77      0.77       268\n",
      "weighted avg       0.78      0.78      0.78       268\n",
      "\n"
     ]
    }
   ],
   "source": [
    "print(classification_report(y_test,predictions))"
   ]
  }
 ],
 "metadata": {
  "kernelspec": {
   "display_name": "Python 3",
   "language": "python",
   "name": "python3"
  },
  "language_info": {
   "codemirror_mode": {
    "name": "ipython",
    "version": 3
   },
   "file_extension": ".py",
   "mimetype": "text/x-python",
   "name": "python",
   "nbconvert_exporter": "python",
   "pygments_lexer": "ipython3",
   "version": "3.8.8"
  },
  "papermill": {
   "duration": 12.609348,
   "end_time": "2020-12-27T15:32:38.728157",
   "environment_variables": {},
   "exception": null,
   "input_path": "__notebook__.ipynb",
   "output_path": "__notebook__.ipynb",
   "parameters": {},
   "start_time": "2020-12-27T15:32:26.118809",
   "version": "2.1.0"
  }
 },
 "nbformat": 4,
 "nbformat_minor": 4
}
