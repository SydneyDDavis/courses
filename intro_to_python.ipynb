{
 "cells": [
  {
   "cell_type": "markdown",
   "metadata": {},
   "source": [
    "# Introduction to Python\n",
    "\n",
    "Variables, data types, data structures"
   ]
  },
  {
   "cell_type": "code",
   "execution_count": 37,
   "metadata": {},
   "outputs": [
    {
     "name": "stdout",
     "output_type": "stream",
     "text": [
      "hello\n"
     ]
    }
   ],
   "source": [
    "print('hello')"
   ]
  },
  {
   "cell_type": "code",
   "execution_count": 45,
   "metadata": {},
   "outputs": [
    {
     "name": "stdout",
     "output_type": "stream",
     "text": [
      "3 7 hello\n"
     ]
    }
   ],
   "source": [
    "# assign 7 to x (x gets 7)\n",
    "x = 7 \n",
    "a = 5\n",
    "a = x\n",
    "x = 3\n",
    "# s is the string hello\n",
    "s = 'hello'\n",
    "print(x, a, s)"
   ]
  },
  {
   "cell_type": "code",
   "execution_count": 54,
   "metadata": {
    "scrolled": true
   },
   "outputs": [
    {
     "name": "stdout",
     "output_type": "stream",
     "text": [
      "[11, 23, 37, 42]\n",
      "42\n",
      "4\n"
     ]
    }
   ],
   "source": [
    "# lists - the most basic and useful data structure\n",
    "mylist = [11,23,37,42]\n",
    "print(mylist)\n",
    "#access to list elements (zero based)\n",
    "print(mylist[3])\n",
    "#comes with a built in length\n",
    "print(len(mylist))"
   ]
  },
  {
   "cell_type": "code",
   "execution_count": 55,
   "metadata": {},
   "outputs": [
    {
     "name": "stdout",
     "output_type": "stream",
     "text": [
      "[11, 23, 37, 42, 73]\n"
     ]
    }
   ],
   "source": [
    "# what else can we do with lists? append to them\n",
    "mylist.append(73)\n",
    "print(mylist)"
   ]
  },
  {
   "cell_type": "code",
   "execution_count": 63,
   "metadata": {},
   "outputs": [
    {
     "data": {
      "text/plain": [
       "[37, 42]"
      ]
     },
     "execution_count": 63,
     "metadata": {},
     "output_type": "execute_result"
    }
   ],
   "source": [
    "# all ranges (0,10) or [0:10] include the first value, exclude the last (up until but not including the last)\n",
    "mylist[2:4]"
   ]
  },
  {
   "cell_type": "code",
   "execution_count": 70,
   "metadata": {},
   "outputs": [
    {
     "name": "stdout",
     "output_type": "stream",
     "text": [
      "{'data': 101, 'cs': 'computer science', 'spanish': 'hola'}\n",
      "computer science\n",
      "{'data': 101, 'cs': 'computer science', 'spanish': 'hola', 'test': -1, 1: 'data', 'more_data': {}}\n"
     ]
    }
   ],
   "source": [
    "# dictionaries - the data structure you end up wanting to use after to didnt\n",
    "mydict = {}\n",
    "# add an element via a key : value pair\n",
    "mydict['data'] = 101\n",
    "# it can be anything\n",
    "mydict['cs'] = 'computer science'\n",
    "mydict['spanish'] = 'hola'\n",
    "# whats inside\n",
    "print(mydict)\n",
    "#access an element by key lookup\n",
    "mydict['test'] = -1\n",
    "mydict[1] = 'data'\n",
    "mydict['more_data'] = {}\n",
    "print(mydict['cs'])\n",
    "print(mydict)"
   ]
  },
  {
   "cell_type": "code",
   "execution_count": 89,
   "metadata": {},
   "outputs": [
    {
     "name": "stdout",
     "output_type": "stream",
     "text": [
      "5\n",
      "0 11\n",
      "1 23\n",
      "2 37\n",
      "3 42\n",
      "4 73\n"
     ]
    }
   ],
   "source": [
    "# looping through these - what computers spend most of their lives doing\n",
    "#for num in mylist:\n",
    "#    print(num)\n",
    "#print(mylist)\n",
    "#for i in mylist:\n",
    "#    print(i)\n",
    "#    print('jello')\n",
    "#    print(i+2)\n",
    "#print(i)\n",
    "#print(s)\n",
    "# or by using the range - 1 number, 2 number or 3 numbers\n",
    "print(len(mylist))\n",
    "for i in range(0,len(mylist)):\n",
    "    print(i, mylist[i])"
   ]
  },
  {
   "cell_type": "code",
   "execution_count": 90,
   "metadata": {},
   "outputs": [
    {
     "name": "stdout",
     "output_type": "stream",
     "text": [
      "0 11\n",
      "1 23\n",
      "2 37\n",
      "3 42\n",
      "4 73\n"
     ]
    }
   ],
   "source": [
    "# lots to learn about for loops - the essence of slowness - jk, not much to learn, some fancy ways\n",
    "for idx, i in enumerate(mylist):\n",
    "    print(idx, i)"
   ]
  },
  {
   "cell_type": "code",
   "execution_count": 24,
   "metadata": {},
   "outputs": [
    {
     "name": "stdout",
     "output_type": "stream",
     "text": [
      "0\n",
      "1\n",
      "2\n",
      "3\n",
      "4\n",
      "5\n",
      "6\n",
      "7\n",
      "8\n",
      "9\n"
     ]
    }
   ],
   "source": [
    "for i in range(10):\n",
    "    print(i)"
   ]
  },
  {
   "cell_type": "code",
   "execution_count": 25,
   "metadata": {},
   "outputs": [
    {
     "name": "stdout",
     "output_type": "stream",
     "text": [
      "0\n",
      "1\n",
      "2\n",
      "3\n",
      "4\n",
      "5\n",
      "6\n",
      "7\n",
      "8\n",
      "9\n"
     ]
    }
   ],
   "source": [
    "for i in range(0,10):\n",
    "    print(i)"
   ]
  },
  {
   "cell_type": "code",
   "execution_count": 26,
   "metadata": {},
   "outputs": [
    {
     "name": "stdout",
     "output_type": "stream",
     "text": [
      "0\n",
      "2\n",
      "4\n",
      "6\n",
      "8\n"
     ]
    }
   ],
   "source": [
    "for i in range(0,10,2):\n",
    "    print(i)"
   ]
  },
  {
   "cell_type": "code",
   "execution_count": 92,
   "metadata": {},
   "outputs": [
    {
     "name": "stdout",
     "output_type": "stream",
     "text": [
      "[]\n",
      "[0, 1, 2, 3, 4, 5, 6, 7, 8, 9]\n"
     ]
    }
   ],
   "source": [
    "# could we make a list with loops instead of typing?\n",
    "newlist = []\n",
    "print(newlist)\n",
    "for i in range(10):\n",
    "    newlist.append(i)\n",
    "print(newlist)"
   ]
  },
  {
   "cell_type": "markdown",
   "metadata": {},
   "source": [
    "now lets stand on the shoulders of giants...or regular sized people..."
   ]
  },
  {
   "cell_type": "code",
   "execution_count": 93,
   "metadata": {},
   "outputs": [],
   "source": [
    "#imports - these are the libraries dreams are made of\n",
    "import csv\n",
    "import numpy as np\n",
    "import pandas as pd"
   ]
  },
  {
   "cell_type": "markdown",
   "metadata": {},
   "source": [
    "at this point we can do almost everything we want for data exploration and analysis!"
   ]
  },
  {
   "cell_type": "code",
   "execution_count": 94,
   "metadata": {},
   "outputs": [
    {
     "name": "stdout",
     "output_type": "stream",
     "text": [
      "[11 23 37 42 73]\n"
     ]
    }
   ],
   "source": [
    "# what can numpy do for you\n",
    "arr = np.array(mylist)\n",
    "print(arr)\n",
    "# whaaaaaat"
   ]
  },
  {
   "cell_type": "code",
   "execution_count": 102,
   "metadata": {},
   "outputs": [
    {
     "name": "stdout",
     "output_type": "stream",
     "text": [
      "[0 1 2 3 4 5 6 7 8 9]\n"
     ]
    }
   ],
   "source": [
    "# make a quick lis....vector or array as they say\n",
    "emptylist = []\n",
    "for i in range(10):\n",
    "    emptylist.append(i)\n",
    "newarr = np.arange(10)\n",
    "print(newarr)"
   ]
  },
  {
   "cell_type": "code",
   "execution_count": 104,
   "metadata": {},
   "outputs": [
    {
     "data": {
      "text/plain": [
       "array([0., 0., 0., 0., 0., 0., 0., 0., 0., 0., 0., 0.])"
      ]
     },
     "execution_count": 104,
     "metadata": {},
     "output_type": "execute_result"
    }
   ],
   "source": [
    "np.zeros(12)"
   ]
  },
  {
   "cell_type": "code",
   "execution_count": 105,
   "metadata": {},
   "outputs": [
    {
     "data": {
      "text/plain": [
       "array([1., 1., 1., 1., 1., 1., 1., 1., 1., 1., 1., 1.])"
      ]
     },
     "execution_count": 105,
     "metadata": {},
     "output_type": "execute_result"
    }
   ],
   "source": [
    "np.ones(12)"
   ]
  },
  {
   "cell_type": "code",
   "execution_count": 108,
   "metadata": {},
   "outputs": [
    {
     "name": "stdout",
     "output_type": "stream",
     "text": [
      "9\n",
      "3\n",
      "1\n",
      "2\n",
      "8\n",
      "0\n",
      "7\n",
      "8\n",
      "8\n",
      "4\n"
     ]
    }
   ],
   "source": [
    "# we will use this for random stuff heehee and statistical things eventually\n",
    "for i in range(10):\n",
    "    print(np.random.randint(0,10))"
   ]
  },
  {
   "cell_type": "code",
   "execution_count": 133,
   "metadata": {},
   "outputs": [],
   "source": [
    "# pandas, the lifeblood of a data scientist...whats lifeblood?\n",
    "data = pd.read_csv('covid/UNCOVER_v4/UNCOVER/apple_mobility_trends/mobility-trends.csv')"
   ]
  },
  {
   "cell_type": "code",
   "execution_count": 134,
   "metadata": {},
   "outputs": [
    {
     "data": {
      "text/plain": [
       "<bound method NDFrame.describe of               geo_type       region transportation_type        date   value\n",
       "0       country/region      Albania             driving         NaN     NaN\n",
       "1       country/region      Albania             driving         NaN     NaN\n",
       "2       country/region      Albania             driving         NaN     NaN\n",
       "3       country/region      Albania             driving  2020-01-13  100.00\n",
       "4       country/region      Albania             driving  2020-01-14   95.30\n",
       "...                ...          ...                 ...         ...     ...\n",
       "474870          county  Yuma County             driving  2020-05-15  119.31\n",
       "474871          county  Yuma County             driving  2020-05-16  110.02\n",
       "474872          county  Yuma County             driving  2020-05-17   92.75\n",
       "474873          county  Yuma County             driving  2020-05-18  104.56\n",
       "474874          county  Yuma County             driving  2020-05-19  101.34\n",
       "\n",
       "[474875 rows x 5 columns]>"
      ]
     },
     "execution_count": 134,
     "metadata": {},
     "output_type": "execute_result"
    }
   ],
   "source": [
    "# voila - which is french for, and then i found out\n",
    "data.describe"
   ]
  },
  {
   "cell_type": "code",
   "execution_count": 135,
   "metadata": {},
   "outputs": [
    {
     "data": {
      "text/html": [
       "<div>\n",
       "<style scoped>\n",
       "    .dataframe tbody tr th:only-of-type {\n",
       "        vertical-align: middle;\n",
       "    }\n",
       "\n",
       "    .dataframe tbody tr th {\n",
       "        vertical-align: top;\n",
       "    }\n",
       "\n",
       "    .dataframe thead th {\n",
       "        text-align: right;\n",
       "    }\n",
       "</style>\n",
       "<table border=\"1\" class=\"dataframe\">\n",
       "  <thead>\n",
       "    <tr style=\"text-align: right;\">\n",
       "      <th></th>\n",
       "      <th>geo_type</th>\n",
       "      <th>region</th>\n",
       "      <th>transportation_type</th>\n",
       "      <th>date</th>\n",
       "      <th>value</th>\n",
       "    </tr>\n",
       "  </thead>\n",
       "  <tbody>\n",
       "    <tr>\n",
       "      <th>0</th>\n",
       "      <td>country/region</td>\n",
       "      <td>Albania</td>\n",
       "      <td>driving</td>\n",
       "      <td>NaN</td>\n",
       "      <td>NaN</td>\n",
       "    </tr>\n",
       "    <tr>\n",
       "      <th>1</th>\n",
       "      <td>country/region</td>\n",
       "      <td>Albania</td>\n",
       "      <td>driving</td>\n",
       "      <td>NaN</td>\n",
       "      <td>NaN</td>\n",
       "    </tr>\n",
       "    <tr>\n",
       "      <th>2</th>\n",
       "      <td>country/region</td>\n",
       "      <td>Albania</td>\n",
       "      <td>driving</td>\n",
       "      <td>NaN</td>\n",
       "      <td>NaN</td>\n",
       "    </tr>\n",
       "    <tr>\n",
       "      <th>3</th>\n",
       "      <td>country/region</td>\n",
       "      <td>Albania</td>\n",
       "      <td>driving</td>\n",
       "      <td>2020-01-13</td>\n",
       "      <td>100.00</td>\n",
       "    </tr>\n",
       "    <tr>\n",
       "      <th>4</th>\n",
       "      <td>country/region</td>\n",
       "      <td>Albania</td>\n",
       "      <td>driving</td>\n",
       "      <td>2020-01-14</td>\n",
       "      <td>95.30</td>\n",
       "    </tr>\n",
       "    <tr>\n",
       "      <th>...</th>\n",
       "      <td>...</td>\n",
       "      <td>...</td>\n",
       "      <td>...</td>\n",
       "      <td>...</td>\n",
       "      <td>...</td>\n",
       "    </tr>\n",
       "    <tr>\n",
       "      <th>474870</th>\n",
       "      <td>county</td>\n",
       "      <td>Yuma County</td>\n",
       "      <td>driving</td>\n",
       "      <td>2020-05-15</td>\n",
       "      <td>119.31</td>\n",
       "    </tr>\n",
       "    <tr>\n",
       "      <th>474871</th>\n",
       "      <td>county</td>\n",
       "      <td>Yuma County</td>\n",
       "      <td>driving</td>\n",
       "      <td>2020-05-16</td>\n",
       "      <td>110.02</td>\n",
       "    </tr>\n",
       "    <tr>\n",
       "      <th>474872</th>\n",
       "      <td>county</td>\n",
       "      <td>Yuma County</td>\n",
       "      <td>driving</td>\n",
       "      <td>2020-05-17</td>\n",
       "      <td>92.75</td>\n",
       "    </tr>\n",
       "    <tr>\n",
       "      <th>474873</th>\n",
       "      <td>county</td>\n",
       "      <td>Yuma County</td>\n",
       "      <td>driving</td>\n",
       "      <td>2020-05-18</td>\n",
       "      <td>104.56</td>\n",
       "    </tr>\n",
       "    <tr>\n",
       "      <th>474874</th>\n",
       "      <td>county</td>\n",
       "      <td>Yuma County</td>\n",
       "      <td>driving</td>\n",
       "      <td>2020-05-19</td>\n",
       "      <td>101.34</td>\n",
       "    </tr>\n",
       "  </tbody>\n",
       "</table>\n",
       "<p>474875 rows × 5 columns</p>\n",
       "</div>"
      ],
      "text/plain": [
       "              geo_type       region transportation_type        date   value\n",
       "0       country/region      Albania             driving         NaN     NaN\n",
       "1       country/region      Albania             driving         NaN     NaN\n",
       "2       country/region      Albania             driving         NaN     NaN\n",
       "3       country/region      Albania             driving  2020-01-13  100.00\n",
       "4       country/region      Albania             driving  2020-01-14   95.30\n",
       "...                ...          ...                 ...         ...     ...\n",
       "474870          county  Yuma County             driving  2020-05-15  119.31\n",
       "474871          county  Yuma County             driving  2020-05-16  110.02\n",
       "474872          county  Yuma County             driving  2020-05-17   92.75\n",
       "474873          county  Yuma County             driving  2020-05-18  104.56\n",
       "474874          county  Yuma County             driving  2020-05-19  101.34\n",
       "\n",
       "[474875 rows x 5 columns]"
      ]
     },
     "execution_count": 135,
     "metadata": {},
     "output_type": "execute_result"
    }
   ],
   "source": [
    "data"
   ]
  },
  {
   "cell_type": "code",
   "execution_count": 119,
   "metadata": {},
   "outputs": [
    {
     "name": "stdout",
     "output_type": "stream",
     "text": [
      "date\n",
      "county\n",
      "state\n",
      "fips\n",
      "cases\n",
      "deaths\n"
     ]
    }
   ],
   "source": [
    "#columns\n",
    "for col in data.columns:\n",
    "    print(col)"
   ]
  },
  {
   "cell_type": "code",
   "execution_count": 122,
   "metadata": {},
   "outputs": [
    {
     "data": {
      "text/plain": [
       "0         2020-01-21\n",
       "1         2020-01-22\n",
       "2         2020-01-23\n",
       "3         2020-01-24\n",
       "4         2020-01-24\n",
       "             ...    \n",
       "158976    2020-05-19\n",
       "158977    2020-05-19\n",
       "158978    2020-05-19\n",
       "158979    2020-05-19\n",
       "158980    2020-05-19\n",
       "Name: date, Length: 158981, dtype: object"
      ]
     },
     "execution_count": 122,
     "metadata": {},
     "output_type": "execute_result"
    }
   ],
   "source": [
    "# get a column\n",
    "data.date"
   ]
  },
  {
   "cell_type": "code",
   "execution_count": 127,
   "metadata": {},
   "outputs": [
    {
     "name": "stdout",
     "output_type": "stream",
     "text": [
      "              date      county    state     fips  cases  deaths\n",
      "158971  2020-05-19     Lincoln  Wyoming  56023.0     14       0\n",
      "158972  2020-05-19     Natrona  Wyoming  56025.0     64       0\n",
      "158973  2020-05-19    Niobrara  Wyoming  56027.0      2       0\n",
      "158974  2020-05-19        Park  Wyoming  56029.0      1       0\n",
      "158975  2020-05-19    Sheridan  Wyoming  56033.0     16       0\n",
      "158976  2020-05-19    Sublette  Wyoming  56035.0      3       0\n",
      "158977  2020-05-19  Sweetwater  Wyoming  56037.0     24       0\n",
      "158978  2020-05-19       Teton  Wyoming  56039.0    100       1\n",
      "158979  2020-05-19       Uinta  Wyoming  56041.0     11       0\n",
      "158980  2020-05-19    Washakie  Wyoming  56043.0     15       0\n"
     ]
    }
   ],
   "source": [
    "#get a row\n",
    "print(data.tail(10))\n",
    "#data.iloc[0]"
   ]
  },
  {
   "cell_type": "code",
   "execution_count": 131,
   "metadata": {},
   "outputs": [
    {
     "data": {
      "image/png": "[encoded data removed]",
      "text/plain": [
       "<Figure size 432x288 with 1 Axes>"
      ]
     },
     "metadata": {
      "needs_background": "light"
     },
     "output_type": "display_data"
    }
   ],
   "source": [
    "#lastly...a lil sauce with matplotlib.pyplot\n",
    "import matplotlib.pyplot as plt\n",
    "#lets use our powers of getting array length AND array generation\n",
    "#x_axis = np.arange(len(arr))\n",
    "# simple plot of x,y\n",
    "plt.plot(data.fips)\n",
    "plt.show()"
   ]
  },
  {
   "cell_type": "code",
   "execution_count": 132,
   "metadata": {},
   "outputs": [
    {
     "data": {
      "text/plain": [
       "array([[<matplotlib.axes._subplots.AxesSubplot object at 0x0000015CDF010F40>,\n",
       "        <matplotlib.axes._subplots.AxesSubplot object at 0x0000015CDF065520>],\n",
       "       [<matplotlib.axes._subplots.AxesSubplot object at 0x0000015CDF0A1E20>,\n",
       "        <matplotlib.axes._subplots.AxesSubplot object at 0x0000015CDC776370>]],\n",
       "      dtype=object)"
      ]
     },
     "execution_count": 132,
     "metadata": {},
     "output_type": "execute_result"
    },
    {
     "data": {
      "image/png": "[encoded data removed]",
      "text/plain": [
       "<Figure size 432x288 with 4 Axes>"
      ]
     },
     "metadata": {
      "needs_background": "light"
     },
     "output_type": "display_data"
    }
   ],
   "source": [
    "data.hist()"
   ]
  },
  {
   "cell_type": "code",
   "execution_count": null,
   "metadata": {},
   "outputs": [],
   "source": []
  }
 ],
 "metadata": {
  "kernelspec": {
   "display_name": "Python 3",
   "language": "python",
   "name": "python3"
  },
  "language_info": {
   "codemirror_mode": {
    "name": "ipython",
    "version": 3
   },
   "file_extension": ".py",
   "mimetype": "text/x-python",
   "name": "python",
   "nbconvert_exporter": "python",
   "pygments_lexer": "ipython3",
   "version": "3.8.8"
  }
 },
 "nbformat": 4,
 "nbformat_minor": 2
}
